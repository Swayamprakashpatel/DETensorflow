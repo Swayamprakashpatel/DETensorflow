{
  "nbformat": 4,
  "nbformat_minor": 0,
  "metadata": {
    "colab": {
      "name": "Model_DE_Predictor.ipynb",
      "provenance": [],
      "collapsed_sections": [],
      "mount_file_id": "1XPpLhX97aHVqBDQnV340wJ9ntfYZpcAL",
      "authorship_tag": "ABX9TyOMexAKGEBJS+CRa2naQEhe",
      "include_colab_link": true
    },
    "kernelspec": {
      "display_name": "Python 3",
      "name": "python3"
    },
    "language_info": {
      "name": "python"
    }
  },
  "cells": [
    {
      "cell_type": "markdown",
      "metadata": {
        "id": "view-in-github",
        "colab_type": "text"
      },
      "source": [
        "<a href=\"https://colab.research.google.com/github/Swayamprakashpatel/DE_Tensorflow/blob/main/Model_DE_Predictor.ipynb\" target=\"_parent\"><img src=\"https://colab.research.google.com/assets/colab-badge.svg\" alt=\"Open In Colab\"/></a>"
      ]
    },
    {
      "cell_type": "markdown",
      "metadata": {
        "id": "NCz8QqPh9jAK"
      },
      "source": [
        "**DRUG-EXCIPIENT INTERACTION PREDICTION TOOL**\n",
        "\n",
        "Dr. Swayamprakash Patel (Email: swayamprakashpatel.ph@charusat.ac.in)\n",
        "\n",
        "\n",
        "**Model Details:**\n",
        "\n",
        "Training Accuracy is 0.9898828268051147\n",
        "\n",
        "Validation Accuracy is 0.9527363181114197\n",
        "\n",
        "Training loss is 0.020730653777718544\n",
        "\n",
        "Validation loss is 0.18604408204555511\n"
      ]
    },
    {
      "cell_type": "code",
      "metadata": {
        "colab": {
          "background_save": true
        },
        "id": "aP8cCjyNRiMY",
        "cellView": "form",
        "outputId": "fe68e44f-abd8-43b5-9ec3-142b66e68896"
      },
      "source": [
        "#@title Add PubChem Compound ID (CID) for both Drug and Excipient and Run Both Cells (Shift + Enter)\n",
        "#%%capture\n",
        "!pip install pubchempy\n",
        "import tensorflow as tf\n",
        "import pandas as pd \n",
        "import numpy as np \n",
        "import io\n",
        "from tensorflow import keras\n",
        "import pubchempy as pcp\n",
        "from sklearn.preprocessing import OneHotEncoder\n",
        "from keras.models import load_model\n",
        "\n",
        "#Download Model.hdf5 from google drive\n",
        "from google_drive_downloader import GoogleDriveDownloader as gdd\n",
        "\n",
        "gdd.download_file_from_google_drive(file_id='1k-xiFd6ZVJGSGFp2bA2OYAJDPWvmk-_x',\n",
        "                                    dest_path='/content/sample_data/Model.hdf5',\n",
        "                                    unzip=False)\n",
        "#Load Model\n",
        "model = load_model('/content/sample_data/Model.hdf5', compile= True)\n",
        "\n",
        "#Compile Fingerprints (1762 Inputs)\n",
        "Drug_CID =  5391#@param {type:\"number\"}\n",
        "Excipient_CID =  11177#@param {type:\"number\"}\n",
        "\n",
        "\n",
        "CID_D = pcp.Compound.from_cid(Drug_CID)\n",
        "CID_E = pcp.Compound.from_cid(Excipient_CID)\n",
        "\n",
        "FPD = CID_D.cactvs_fingerprint\n",
        "FPE = CID_E.cactvs_fingerprint \n",
        "\n",
        "List1 = list(FPD)\n",
        "List2 = list(FPE)\n",
        "List = List1 + List2\n",
        " \n",
        "t = pd.DataFrame(np.array(List).reshape(-1,len(List)))\n",
        "\n",
        "dataset1 = t.values\n",
        "#t.dtype = int\n",
        "X_Predict = (dataset1[:,0:1762].astype(int))\n",
        "#print(X_Predict)\n",
        "#print(X_Predict.shape)\n",
        "#print(X_Predict.dtype)\n",
        "\n",
        "#t1 = model.predict(X_Predict)\n",
        "#print(t1)\n",
        "\n",
        "t2 = np.round(model.predict(X_Predict))\n",
        "#print(t2)\n",
        " \n",
        "#Y_prediction = enc.inverse_transform(t2)\n",
        "#print(Y_prediction, Y_prediction.shape)\n",
        "Y1 = np.array([['Compatible'], ['Incompatible']])\n",
        "from sklearn.preprocessing import OneHotEncoder\n",
        "enc = OneHotEncoder(handle_unknown='ignore')\n",
        "enc.fit(Y1)\n",
        "OneHotEncoder(handle_unknown='ignore')\n",
        "enc.categories_\n",
        "Y = enc.transform(Y1).toarray()\n",
        "Y_prediction = enc.inverse_transform(t2)\n",
        "\n",
        "#print(Y_prediction)"
      ],
      "execution_count": null,
      "outputs": [
        {
          "output_type": "stream",
          "text": [
            "Requirement already satisfied: pubchempy in /usr/local/lib/python3.7/dist-packages (1.0.4)\n",
            "WARNING:tensorflow:6 out of the last 6 calls to <function Model.make_predict_function.<locals>.predict_function at 0x7fd662b1cb90> triggered tf.function retracing. Tracing is expensive and the excessive number of tracings could be due to (1) creating @tf.function repeatedly in a loop, (2) passing tensors with different shapes, (3) passing Python objects instead of tensors. For (1), please define your @tf.function outside of the loop. For (2), @tf.function has experimental_relax_shapes=True option that relaxes argument shapes that can avoid unnecessary retracing. For (3), please refer to https://www.tensorflow.org/guide/function#controlling_retracing and https://www.tensorflow.org/api_docs/python/tf/function for  more details.\n"
          ],
          "name": "stdout"
        }
      ]
    },
    {
      "cell_type": "code",
      "metadata": {
        "cellView": "form",
        "colab": {
          "base_uri": "https://localhost:8080/"
        },
        "id": "fb9AAQyyCULJ",
        "outputId": "8e1f4aff-73b6-4714-cad5-d26690fa8d4d"
      },
      "source": [
        "#@title Show Result\n",
        "print(Y_prediction)"
      ],
      "execution_count": null,
      "outputs": [
        {
          "output_type": "stream",
          "text": [
            "[[None 'Incompatible']]\n"
          ],
          "name": "stdout"
        }
      ]
    }
  ]
}